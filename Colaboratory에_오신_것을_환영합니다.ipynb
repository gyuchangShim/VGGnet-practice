{
  "cells": [
    {
      "cell_type": "markdown",
      "metadata": {
        "id": "view-in-github",
        "colab_type": "text"
      },
      "source": [
        "<a href=\"https://colab.research.google.com/github/gyuchangShim/VGGnet-practice/blob/main/Colaboratory%EC%97%90_%EC%98%A4%EC%8B%A0_%EA%B2%83%EC%9D%84_%ED%99%98%EC%98%81%ED%95%A9%EB%8B%88%EB%8B%A4.ipynb\" target=\"_parent\"><img src=\"https://colab.research.google.com/assets/colab-badge.svg\" alt=\"Open In Colab\"/></a>"
      ]
    },
    {
      "cell_type": "code",
      "source": [
        "# Drive Mount\n",
        "from google.colab import drive\n",
        "drive.mount('/content/gdrive')"
      ],
      "metadata": {
        "id": "zPdCijn8yhZo"
      },
      "execution_count": null,
      "outputs": []
    },
    {
      "cell_type": "code",
      "source": [
        "# json\n",
        "import os\n",
        "import json\n",
        "\n",
        "file_path = '/content/gdrive/MyDrive/dataset/라벨 데이터/img_emotion_training_data(당황).json'\n",
        "\n",
        "with open(file_path, 'r', encoding = 'utf-8') as f:\n",
        "  json_data = json.load(f)\n",
        "\n",
        "# subset 데이터 크기\n",
        "data_size = 150\n",
        "\n",
        "# subset 분할\n",
        "data_subset = json_data[:data_size]\n",
        "\n",
        "# 파일 경로 지정\n",
        "output_file_path = os.path.join('/content/gdrive/MyDrive/dataset/label_subset', 'subset_data.json')  # 저장할 파일 경로 지정\n",
        "\n",
        "# subset 저장\n",
        "with open(output_file_path, 'w') as output_file:\n",
        "    json.dump(data_subset, output_file, indent=2)"
      ],
      "metadata": {
        "id": "VJ2x3RwW2HYg"
      },
      "execution_count": null,
      "outputs": []
    }
  ],
  "metadata": {
    "colab": {
      "name": "Colaboratory에 오신 것을 환영합니다",
      "provenance": [],
      "include_colab_link": true
    },
    "kernelspec": {
      "display_name": "Python 3",
      "name": "python3"
    }
  },
  "nbformat": 4,
  "nbformat_minor": 0
}